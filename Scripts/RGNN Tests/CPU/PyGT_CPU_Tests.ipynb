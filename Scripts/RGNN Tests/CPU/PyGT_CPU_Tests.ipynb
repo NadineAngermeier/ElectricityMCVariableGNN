{
 "cells": [
  {
   "attachments": {},
   "cell_type": "markdown",
   "id": "525ff290",
   "metadata": {},
   "source": [
    "# Notebook for OPF Prediction with RGNN on CPU"
   ]
  },
  {
   "attachments": {},
   "cell_type": "markdown",
   "id": "9b3c153e",
   "metadata": {},
   "source": [
    "### Create PyGT Graph Data Sets"
   ]
  },
  {
   "attachments": {},
   "cell_type": "markdown",
   "id": "0bc6b46c",
   "metadata": {},
   "source": [
    "#### Helper Functions"
   ]
  },
  {
   "cell_type": "code",
   "execution_count": null,
   "id": "e2b28997",
   "metadata": {},
   "outputs": [],
   "source": [
    "import torch\n",
    "import pandas as pd\n",
    "import numpy as np\n",
    "\n",
    "# Read busses and edges\n",
    "busses = pd.read_excel('Busses_Timeseries_Table_2022.xlsx')\n",
    "edges = pd.read_excel('Edges_Timeseries_Table_2022.xlsx')\n",
    "\n",
    "#Functions to create graph from (busses, edges)-sample\n",
    "def sourceNodes(timestamp):\n",
    "    source = edges.loc[edges['datetime_beginning_utc'] == timestamp, 'From Number']\n",
    "    target = edges.loc[edges['datetime_beginning_utc'] == timestamp, 'To Number']\n",
    "    sourceNp = pd.concat([source, target])\n",
    "    targetNp = pd.concat([target, source])\n",
    "    return (sourceNp, targetNp)\n",
    "    \n",
    "def nodeAttributes(timestamp):\n",
    "    attributes = busses.loc[busses['datetime_beginning_utc'] == timestamp, ['mw_norm', 'incremental_price', 'inter_start_cost', 'min_ecomin', 'max_ecomax']]\n",
    "    return attributes.to_numpy()\n",
    "\n",
    "# Approach to only use capacity, mostly used    \n",
    "def edgeAttributes(timestamp):\n",
    "    attributes = edges.loc[edges['datetime_beginning_utc'] == timestamp, ['X', 'Lim MVA A']]\n",
    "    weights = attributes['Lim MVA A'] # The models can not handle multiple edge features -> choose or connect\n",
    "    attributes2 = pd.concat([weights, weights], axis=0).to_numpy()\n",
    "    return attributes2\n",
    "\n",
    "# Approach to integrate reactance and capactiy  \n",
    "def edgeAttributesConnected(timestamp):\n",
    "    attributes = edges.loc[edges['datetime_beginning_utc'] == timestamp, ['X', 'Lim MVA A']]\n",
    "    sumLimit = sum(attributes['Lim MVA A'])\n",
    "    weights = attributes['X'] * attributes['Lim MVA A'] / sumLimit # Use aggregation with weighting of capacity\n",
    "    attributes2 = pd.concat([weights, weights], axis=0).to_numpy()\n",
    "    return attributes2\n",
    "\n",
    "def solAttributes(timestamp):\n",
    "    attributes = busses.loc[busses['datetime_beginning_utc'] == timestamp, ['solTheta', 'solGenerate']]\n",
    "    return attributes.to_numpy()\n",
    "\n",
    "# To only test for generation prediction\n",
    "def solAttributesT1(timestamp):\n",
    "    attributes = busses.loc[busses['datetime_beginning_utc'] == timestamp, ['solTheta']]\n",
    "    return attributes.to_numpy()    \n"
   ]
  },
  {
   "attachments": {},
   "cell_type": "markdown",
   "id": "1453f3e8",
   "metadata": {},
   "source": [
    "#### Create Snapshots"
   ]
  },
  {
   "cell_type": "code",
   "execution_count": null,
   "id": "561bd9f9",
   "metadata": {},
   "outputs": [],
   "source": [
    "# Temporal data snapshots are PyTorch Geometric data object for each snapshot\n",
    "# Iterated by DynamicGraphTemporalSignal\n",
    "\n",
    "import torch_geometric_temporal\n",
    "from torch_geometric_temporal.signal.dynamic_graph_temporal_signal import DynamicGraphTemporalSignal\n",
    "timestamps = busses['datetime_beginning_utc'].unique()\n",
    "numGraph = len(timestamps)\n",
    "edge_indices = list()\n",
    "features = list()\n",
    "targets = list()\n",
    "edge_weights = list()\n",
    "\n",
    "# Append graphs per time\n",
    "timeInterval = 0\n",
    "for timeInterval in range(numGraph):  \n",
    "    timestamp = pd.Timestamp(timestamps[timeInterval])\n",
    "    source, target = sourceNodes(timestamp)\n",
    "    edge_index = np.array([source, target], dtype=np.float32)\n",
    "    x = np.array(nodeAttributes(timestamp), dtype=np.float32)\n",
    "    y  = np.array(solAttributes(timestamp), dtype=np.float32)\n",
    "    edge_attr = np.array(edgeAttributes(timestamp), dtype=np.float32)\n",
    "    edge_indices.append(edge_index)\n",
    "    features.append(x)\n",
    "    targets.append(y)\n",
    "    edge_weights.append(edge_attr)\n",
    "    \n",
    "dataset = DynamicGraphTemporalSignal(edge_indices, edge_weights, features, targets)"
   ]
  },
  {
   "attachments": {},
   "cell_type": "markdown",
   "id": "13bded29",
   "metadata": {},
   "source": [
    "#### Split"
   ]
  },
  {
   "cell_type": "code",
   "execution_count": null,
   "id": "e7fa93ec",
   "metadata": {},
   "outputs": [],
   "source": [
    "from torch_geometric_temporal.signal import temporal_signal_split\n",
    "# A split of dataset taking DynamicSignal object, later snapshots contribute to test set, splits along ratio\n",
    "train_dataset, test_dataset = temporal_signal_split(dataset, train_ratio=0.8)"
   ]
  },
  {
   "attachments": {},
   "cell_type": "markdown",
   "id": "ecde2b2e",
   "metadata": {},
   "source": [
    "### Create PyGT Model (on CPU)"
   ]
  },
  {
   "attachments": {},
   "cell_type": "markdown",
   "id": "63e0db8c",
   "metadata": {},
   "source": [
    "#### Complexity Level 2"
   ]
  },
  {
   "cell_type": "code",
   "execution_count": null,
   "id": "52bd01e7",
   "metadata": {},
   "outputs": [],
   "source": [
    "# (Dynamic Convolutional) Recurrent Graph Neural Network\n",
    "# Complexity Level 2 with Normalization and Dropout\n",
    "# DCRNN layer & feedforward network\n",
    "import torch.nn.functional as F\n",
    "from torch_geometric.nn.norm import BatchNorm \n",
    "from torch_geometric_temporal.nn.recurrent import DCRNN\n",
    "\n",
    "class RecurrentGCN(torch.nn.Module):\n",
    "    def __init__(self, node_features, filters):\n",
    "        super(RecurrentGCN, self).__init__()\n",
    "        self.bn = BatchNorm(node_features)\n",
    "        self.recurrent = DCRNN(node_features, filters, 2) \n",
    "        #Arguments: In, Out (hyper-param, many for Complexity), K (#neighbors/steps, take 2)\n",
    "        self.linear1 = torch.nn.Linear(filters, 20)\n",
    "        self.linear2 = torch.nn.Linear(20, 2) # 2 Outputs\n",
    "\n",
    "    def forward(self, x, edge_index, edge_weight):\n",
    "        x = self.bn(x) # Normalization layer\n",
    "        h = self.recurrent(x, edge_index, edge_weight) #DCRNN: GCNN + GRU\n",
    "        h = F.dropout(h, training=self.training) # Dropout against Overfitting\n",
    "        h = F.relu(h) # Non-Linearity\n",
    "        h = self.linear1(h)\n",
    "        h = self.linear2(h) # Compute Regression Output\n",
    "        return h"
   ]
  },
  {
   "attachments": {},
   "cell_type": "markdown",
   "id": "1a252e86",
   "metadata": {},
   "source": [
    "#### Complexity Level 3"
   ]
  },
  {
   "cell_type": "code",
   "execution_count": 31,
   "id": "e8c3cdbf",
   "metadata": {},
   "outputs": [],
   "source": [
    "# Multiple DCRNN layers\n",
    "import torch.nn.functional as F\n",
    "from torch_geometric.nn.norm import BatchNorm \n",
    "from torch_geometric_temporal.nn.recurrent import DCRNN\n",
    "\n",
    "class RecurrentGCN(torch.nn.Module):\n",
    "    def __init__(self, node_features, filters):\n",
    "        super(RecurrentGCN, self).__init__()\n",
    "        #self.bn1 = torch.nn.BatchNorm1d(node_features) #Adding normalization layer\n",
    "        #self.bn1 = BatchNorm(node_features) #Adding normalization layer\n",
    "        self.recurrent1 = DCRNN(node_features, filters, 2) # Another temporal layer\n",
    "        self.recurrent2 = DCRNN(filters, 20, 2)\n",
    "        self.linear1 = torch.nn.Linear(20, 10)\n",
    "        self.linear2 = torch.nn.Linear(10, 2)\n",
    "\n",
    "    def forward(self, x, edge_index, edge_weight):\n",
    "        h = self.recurrent1(x, edge_index, edge_weight) \n",
    "        h = F.relu(h)\n",
    "        h = F.dropout(h, training=self.training) \n",
    "        h = self.recurrent2(h, edge_index, edge_weight)\n",
    "        h = F.relu(h)\n",
    "        h = F.dropout(h, training=self.training)\n",
    "        h = self.linear1(h) \n",
    "        h = self.linear2(h)\n",
    "        return h"
   ]
  },
  {
   "cell_type": "code",
   "execution_count": null,
   "id": "bcff9530",
   "metadata": {},
   "outputs": [],
   "source": [
    "from tqdm import tqdm\n",
    "\n",
    "model = RecurrentGCN(node_features=5, filters=40)\n",
    "optimizer = torch.optim.Adam(model.parameters(), lr=1e-3) # Optimizer with learining rate\n",
    "criterion = torch.nn.MSELoss() # MSE as Error Metric\n",
    "\n",
    "costs = list()\n",
    "model.train()\n",
    "\n",
    "for epoch in tqdm(range(100)): # Number of Epochs adaptable\n",
    "    cost = 0\n",
    "    costT1 = 0\n",
    "    costT2 = 0\n",
    "    for time, snapshot in enumerate(train_dataset):\n",
    "        y_hat = model(snapshot.x, snapshot.edge_index, snapshot.edge_attr)\n",
    "        cost = cost + criterion(y_hat, snapshot.y)\n",
    "    cost = cost / (time+1)\n",
    "    \n",
    "    #Track Costs\n",
    "    costs.append(cost.detach().numpy())\n",
    "    \n",
    "    cost.backward()\n",
    "    optimizer.step()\n",
    "    optimizer.zero_grad()"
   ]
  },
  {
   "cell_type": "code",
   "execution_count": null,
   "id": "44d1cecd",
   "metadata": {},
   "outputs": [],
   "source": [
    "# Predict and Evaluate Model on Test Set\n",
    "model.eval()\n",
    "cost = 0\n",
    "predictions = list()\n",
    "for time, snapshot in enumerate(test_dataset):\n",
    "    y_hat = model(snapshot.x, snapshot.edge_index, snapshot.edge_attr)\n",
    "    predictions.append(y_hat)\n",
    "    cost = cost + criterion(y_hat, snapshot.y)\n",
    "cost = cost / (time+1)\n",
    "cost = cost.item()\n",
    "print(\"MSE: {:.4f}\".format(cost))"
   ]
  },
  {
   "attachments": {},
   "cell_type": "markdown",
   "id": "55b520cf",
   "metadata": {},
   "source": [
    "### Additional Evaluations"
   ]
  },
  {
   "cell_type": "code",
   "execution_count": 57,
   "id": "48fa02c5",
   "metadata": {},
   "outputs": [
    {
     "data": {
      "text/plain": [
       "array([[3226.0327 ],\n",
       "       [1771.8083 ],\n",
       "       [2889.0173 ],\n",
       "       [1563.8215 ],\n",
       "       [1798.8997 ],\n",
       "       [1247.9696 ],\n",
       "       [1538.9186 ],\n",
       "       [ 698.7978 ],\n",
       "       [1249.2341 ],\n",
       "       [1160.8326 ],\n",
       "       [1313.4514 ],\n",
       "       [1281.6498 ],\n",
       "       [1262.9355 ],\n",
       "       [1182.22   ],\n",
       "       [1055.0587 ],\n",
       "       [1226.7207 ],\n",
       "       [1194.6125 ],\n",
       "       [1020.8108 ],\n",
       "       [1058.9441 ],\n",
       "       [1132.4268 ],\n",
       "       [1015.8745 ],\n",
       "       [ 900.3083 ],\n",
       "       [ 831.1064 ],\n",
       "       [ 695.0012 ],\n",
       "       [ 482.5822 ],\n",
       "       [ 481.81903],\n",
       "       [ 193.46698],\n",
       "       [ 443.52167],\n",
       "       [  92.31734],\n",
       "       [   0.     ],\n",
       "       [3577.825  ]], dtype=float32)"
      ]
     },
     "execution_count": 57,
     "metadata": {},
     "output_type": "execute_result"
    }
   ],
   "source": [
    "test_dataset.targets"
   ]
  },
  {
   "cell_type": "code",
   "execution_count": 12,
   "id": "ce58de36",
   "metadata": {},
   "outputs": [],
   "source": [
    "# Methods to extract Targets and Predictions form Test Set\n",
    "def extractPred(lst, target):\n",
    "    t1 = list()\n",
    "    for item in lst:\n",
    "        for item2 in item:\n",
    "            res = item2[target-1].detach().numpy()\n",
    "            t1.append(item2[target-1].detach().numpy())\n",
    "    return np.asarray(t1)\n",
    "\n",
    "def extractTarget(lst, target):\n",
    "    t1 = list()\n",
    "    for item in lst:\n",
    "        for item2 in item:\n",
    "            t1.append(item2[target-1])\n",
    "    return np.asarray(t1)\n",
    "\n",
    "\n",
    "target1 = extractTarget(test_dataset.targets, 1)\n",
    "target2 = extractTarget(test_dataset.targets, 2)"
   ]
  },
  {
   "cell_type": "code",
   "execution_count": 16,
   "id": "505b6c1e",
   "metadata": {},
   "outputs": [
    {
     "name": "stdout",
     "output_type": "stream",
     "text": [
      "0.0\n",
      "5245.421\n",
      "903.6719\n",
      "312306.6\n",
      "0.0\n",
      "110.25\n",
      "8.496158\n",
      "319.73886\n"
     ]
    }
   ],
   "source": [
    "# Data Checks\n",
    "print(min(target1))\n",
    "print(max(target1))\n",
    "print(np.mean(target1))\n",
    "print(np.var(target1))\n",
    "\n",
    "print(min(target2))\n",
    "print(max(target2))\n",
    "print(np.mean(target2))\n",
    "print(np.var(target2))\n"
   ]
  },
  {
   "cell_type": "code",
   "execution_count": 58,
   "id": "1c558335",
   "metadata": {},
   "outputs": [
    {
     "data": {
      "text/plain": [
       "[<matplotlib.lines.Line2D at 0x277ec3ddc60>]"
      ]
     },
     "execution_count": 58,
     "metadata": {},
     "output_type": "execute_result"
    },
    {
     "data": {
      "image/png": "[encoded data removed]",
      "text/plain": [
       "<Figure size 640x480 with 1 Axes>"
      ]
     },
     "metadata": {},
     "output_type": "display_data"
    }
   ],
   "source": [
    "# Example Graph: Plot Training RMSE\n",
    "import matplotlib.pyplot as plt\n",
    "import math\n",
    "def convert(x):\n",
    "    return math.sqrt(x)\n",
    "\n",
    "costsD = list(map(convert, costs))\n",
    "plt.plot(np.linspace(1, 200, 200).astype(int), costsD)"
   ]
  }
 ],
 "metadata": {
  "kernelspec": {
   "display_name": "Python 3 (ipykernel)",
   "language": "python",
   "name": "python3"
  },
  "language_info": {
   "codemirror_mode": {
    "name": "ipython",
    "version": 3
   },
   "file_extension": ".py",
   "mimetype": "text/x-python",
   "name": "python",
   "nbconvert_exporter": "python",
   "pygments_lexer": "ipython3",
   "version": "3.10.10"
  }
 },
 "nbformat": 4,
 "nbformat_minor": 5
}
