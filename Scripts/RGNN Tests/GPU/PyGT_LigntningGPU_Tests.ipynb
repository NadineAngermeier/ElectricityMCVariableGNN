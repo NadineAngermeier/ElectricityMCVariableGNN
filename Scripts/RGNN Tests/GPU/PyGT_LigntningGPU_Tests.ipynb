{
 "cells": [
  {
   "attachments": {},
   "cell_type": "markdown",
   "metadata": {},
   "source": [
    "# Notebook for PyGT Tests on GPU with Lightning"
   ]
  },
  {
   "attachments": {},
   "cell_type": "markdown",
   "metadata": {},
   "source": [
    "### Data Preparation"
   ]
  },
  {
   "attachments": {},
   "cell_type": "markdown",
   "metadata": {},
   "source": [
    "#### Create Graphs"
   ]
  },
  {
   "cell_type": "code",
   "execution_count": null,
   "metadata": {},
   "outputs": [],
   "source": [
    "import torch\n",
    "import pandas as pd\n",
    "import numpy as np\n",
    "\n",
    "# Read busses and edges\n",
    "busses = pd.read_excel('Busses_Timeseries_Table_2022.xlsx')\n",
    "edges = pd.read_excel('Edges_Timeseries_Table_2022.xlsx')\n",
    "\n",
    "#Functions to create graph from (busses, edges)-sample\n",
    "def sourceNodes(timestamp):\n",
    "    source = edges.loc[edges['datetime_beginning_utc'] == timestamp, 'From Number']\n",
    "    target = edges.loc[edges['datetime_beginning_utc'] == timestamp, 'To Number']\n",
    "    sourceNp = pd.concat([source, target])\n",
    "    targetNp = pd.concat([target, source])\n",
    "    return (sourceNp, targetNp)\n",
    "    \n",
    "def nodeAttributes(timestamp):\n",
    "    attributes = busses.loc[busses['datetime_beginning_utc'] == timestamp, ['mw_norm', 'incremental_price', 'inter_start_cost', 'min_ecomin', 'max_ecomax']]\n",
    "    return attributes.to_numpy()\n",
    "\n",
    "# Approach to only use capacity, mostly used    \n",
    "def edgeAttributes(timestamp):\n",
    "    attributes = edges.loc[edges['datetime_beginning_utc'] == timestamp, ['X', 'Lim MVA A']]\n",
    "    weights = attributes['Lim MVA A'] # The models can not handle multiple edge features -> choose or connect\n",
    "    attributes2 = pd.concat([weights, weights], axis=0).to_numpy()\n",
    "    return attributes2\n",
    "\n",
    "# Approach to integrate reactance and capactiy  \n",
    "def edgeAttributesConnected(timestamp):\n",
    "    attributes = edges.loc[edges['datetime_beginning_utc'] == timestamp, ['X', 'Lim MVA A']]\n",
    "    sumLimit = sum(attributes['Lim MVA A'])\n",
    "    weights = attributes['X'] * attributes['Lim MVA A'] / sumLimit # Use aggregation with weighting of capacity\n",
    "    attributes2 = pd.concat([weights, weights], axis=0).to_numpy()\n",
    "    return attributes2\n",
    "\n",
    "def solAttributes(timestamp):\n",
    "    attributes = busses.loc[busses['datetime_beginning_utc'] == timestamp, ['solTheta', 'solGenerate']]\n",
    "    return attributes.to_numpy()\n",
    "\n",
    "# To only test for generation prediction\n",
    "def solAttributesT1(timestamp):\n",
    "    attributes = busses.loc[busses['datetime_beginning_utc'] == timestamp, ['solTheta']]\n",
    "    return attributes.to_numpy()  "
   ]
  },
  {
   "cell_type": "code",
   "execution_count": null,
   "metadata": {},
   "outputs": [],
   "source": [
    "# Temporal data snapshots are PyTorch Geometric data object for each snapshot\n",
    "# Iterated by DynamicGraphTemporalSignal\n",
    "\n",
    "import torch_geometric_temporal\n",
    "from torch_geometric_temporal.signal.dynamic_graph_temporal_signal import DynamicGraphTemporalSignal\n",
    "timestamps = busses['datetime_beginning_utc'].unique()\n",
    "numGraph = len(timestamps)\n",
    "edge_indices = list()\n",
    "features = list()\n",
    "targets = list()\n",
    "edge_weights = list()\n",
    "\n",
    "# Append graphs per time\n",
    "timeInterval = 0\n",
    "for timeInterval in range(numGraph):  \n",
    "    timestamp = pd.Timestamp(timestamps[timeInterval])\n",
    "    source, target = sourceNodes(timestamp)\n",
    "    edge_index = np.array([source, target], dtype=np.float32)\n",
    "    x = np.array(nodeAttributes(timestamp), dtype=np.float32)\n",
    "    y  = np.array(solAttributes(timestamp), dtype=np.float32)\n",
    "    edge_attr = np.array(edgeAttributes(timestamp), dtype=np.float32)\n",
    "    edge_indices.append(edge_index)\n",
    "    features.append(x)\n",
    "    targets.append(y)\n",
    "    edge_weights.append(edge_attr)\n",
    "    \n",
    "dataset = DynamicGraphTemporalSignal(edge_indices, edge_weights, features, targets)"
   ]
  },
  {
   "attachments": {},
   "cell_type": "markdown",
   "metadata": {},
   "source": [
    "#### Split"
   ]
  },
  {
   "cell_type": "code",
   "execution_count": null,
   "metadata": {},
   "outputs": [],
   "source": [
    "# Split 2 times for Train, Validation and Test sets\n",
    "train_loader, testing = temporal_signal_split(dataset,\n",
    "                                                 train_ratio=0.6)\n",
    "\n",
    "val_loader, test_loader = temporal_signal_split(testing,\n",
    "                                                 train_ratio=0.5)"
   ]
  },
  {
   "attachments": {},
   "cell_type": "markdown",
   "metadata": {},
   "source": [
    "### Model"
   ]
  },
  {
   "attachments": {},
   "cell_type": "markdown",
   "metadata": {},
   "source": [
    "Based on Lightning code example in PyTG GitHub, at:  \n",
    "https://github.com/benedekrozemberczki/pytorch_geometric_temporal/blob/master/examples/recurrent/lightning_example.py"
   ]
  },
  {
   "attachments": {},
   "cell_type": "markdown",
   "metadata": {},
   "source": [
    "#### Complexity Level 2"
   ]
  },
  {
   "cell_type": "code",
   "execution_count": null,
   "metadata": {},
   "outputs": [],
   "source": [
    "# Complexity Level 2 in PyTorch Lightning\n",
    "import pytorch_lightning as pl\n",
    "\n",
    "from torch.nn import functional as F\n",
    "from torch_geometric.nn.norm import BatchNorm\n",
    "from torch_geometric_temporal.nn.recurrent import DCRNN\n",
    "\n",
    "\n",
    "class DCRNNModel(pl.LightningModule):\n",
    "\n",
    "    def __init__(self, node_features, filters):\n",
    "        super().__init__()\n",
    "        self.bn1 = BatchNorm(node_features)\n",
    "        self.recurrent = DCRNN(node_features, filters, 2)\n",
    "        self.linear1 = torch.nn.Linear(filters, 20)\n",
    "        self.linear2 = torch.nn.Linear(20, 2) #Two Targets\n",
    "\n",
    "    def configure_optimizers(self):\n",
    "        optimizer = torch.optim.Adam(self.parameters(), lr=1e-2, weight_decay=1e-5) # Learning Rate and Regularization adjustable\n",
    "        return optimizer\n",
    "    \n",
    "    def forward(self, test_batch): #For predictions\n",
    "        x = test_batch.x\n",
    "        edge_index = test_batch.edge_index\n",
    "        edge_weight = test_batch.edge_attr\n",
    "        x = self.bn1(x) # Normalization\n",
    "        h = self.recurrent(x, edge_index, edge_weight) # Temporal Layer\n",
    "        h = F.relu(h) # Activation Function / Non-liearity\n",
    "        h = F.dropout(h, training=self.training) #O verfitting\n",
    "        h = self.linear1(h)\n",
    "        h = self.linear2(h) #Linear Regression\n",
    "        return h\n",
    "\n",
    "    def training_step(self, train_batch, batch_idx):\n",
    "        x = train_batch.x # Training in Batches on Training Data\n",
    "        y = train_batch.y\n",
    "        edge_index = train_batch.edge_index\n",
    "        edge_weight = train_batch.edge_attr\n",
    "        x = self.bn1(x) # Same model, repeated to fit pipeline\n",
    "        h = self.recurrent(x, edge_index, edge_weight)\n",
    "        h = F.relu(h)\n",
    "        h = F.dropout(h, training=self.training)\n",
    "        h = self.linear1(h)\n",
    "        h = self.linear2(h)\n",
    "        loss = F.mse_loss(h, y) # Cost Function\n",
    "        self.log(\"train_loss\", loss, on_epoch=True) # Log Results\n",
    "        return loss\n",
    "\n",
    "    def validation_step(self, val_batch, batch_idx): # Validation stpe after each Epoch\n",
    "        x = val_batch.x\n",
    "        y = val_batch.y\n",
    "        edge_index = val_batch.edge_index\n",
    "        edge_weight = val_batch.edge_attr\n",
    "        x = self.bn1(x)\n",
    "        h = self.recurrent(x, edge_index, edge_weight)\n",
    "        h = F.relu(h)\n",
    "        h = F.dropout(h, training=self.training)\n",
    "        h = self.linear1(h)\n",
    "        h = self.linear2(h)\n",
    "        loss = F.mse_loss(h, y)\n",
    "        metrics = {'val_loss': loss}\n",
    "        self.log_dict(metrics)\n",
    "        return metrics\n",
    "    \n",
    "    def test_step(self, test_batch, batch_idx): # Compute Test MSE\n",
    "        x = test_batch.x\n",
    "        y = test_batch.y\n",
    "        edge_index = test_batch.edge_index\n",
    "        edge_weight = test_batch.edge_attr\n",
    "        x = self.bn1(x)\n",
    "        h = self.recurrent(x, edge_index, edge_weight)\n",
    "        h = F.relu(h)\n",
    "        h = F.dropout(h, training=self.training)\n",
    "        h = self.linear1(h)\n",
    "        y_hat = self.linear2(h)\n",
    "        test_loss = F.mse_loss(y_hat, y)\n",
    "        self.log(\"test_loss\", test_loss)\n"
   ]
  },
  {
   "attachments": {},
   "cell_type": "markdown",
   "metadata": {},
   "source": [
    "#### Complexity Level 3"
   ]
  },
  {
   "cell_type": "code",
   "execution_count": 107,
   "metadata": {},
   "outputs": [],
   "source": [
    "#Complexity level 3\n",
    "from torch.nn import functional as F\n",
    "\n",
    "import pytorch_lightning as pl\n",
    "from pytorch_lightning.callbacks.early_stopping import EarlyStopping\n",
    "\n",
    "from torch_geometric.nn.norm import BatchNorm\n",
    "from torch_geometric_temporal.nn.recurrent import DCRNN\n",
    "from torch_geometric_temporal.dataset import ChickenpoxDatasetLoader\n",
    "from torch_geometric_temporal.signal import temporal_signal_split\n",
    "\n",
    "\n",
    "class LitDiffConvModel(pl.LightningModule):\n",
    "\n",
    "    def __init__(self, node_features, filters):\n",
    "        super().__init__()\n",
    "        self.bn1 = BatchNorm(node_features)\n",
    "        self.recurrent1 = DCRNN(node_features, filters, 2) # Adjust numer of parameters\n",
    "        self.bn2 = BatchNorm(filters)\n",
    "        self.recurrent2 = DCRNN(filters, 30, 2)\n",
    "        self.linear1 = torch.nn.Linear(30, 20)\n",
    "        self.linear2 = torch.nn.Linear(20, 2)\n",
    "\n",
    "    def configure_optimizers(self):\n",
    "        optimizer = torch.optim.Adam(self.parameters(), lr=0.001) # can add weight_decay\n",
    "        return optimizer\n",
    "    \n",
    "    def forward(self, test_batch):\n",
    "        x = test_batch.x\n",
    "        edge_index = test_batch.edge_index\n",
    "        edge_weight = test_batch.edge_attr\n",
    "        x = self.bn1(x)\n",
    "        h = self.recurrent1(x, edge_index, edge_weight)\n",
    "        h = self.bn2(h)\n",
    "        h = F.relu(h)\n",
    "        h = F.dropout(h, training=self.training)\n",
    "        h = self.recurrent2(h, edge_index, edge_weight)\n",
    "        h = F.relu(h)\n",
    "        h = F.dropout(h, training=self.training)\n",
    "        h = self.linear1(h)\n",
    "        h = self.linear2(h)\n",
    "        return h\n",
    "\n",
    "    def training_step(self, train_batch, batch_idx):\n",
    "        x = train_batch.x\n",
    "        y = train_batch.y\n",
    "        edge_index = train_batch.edge_index\n",
    "        edge_weight = train_batch.edge_attr\n",
    "        x = self.bn1(x)\n",
    "        h = self.recurrent1(x, edge_index, edge_weight)\n",
    "        h = self.bn2(h)\n",
    "        h = F.relu(h)\n",
    "        h = F.dropout(h, training=self.training)\n",
    "        h = self.recurrent2(h, edge_index, edge_weight)\n",
    "        h = F.relu(h)\n",
    "        h = F.dropout(h, training=self.training)\n",
    "        h = self.linear1(h)\n",
    "        h = self.linear2(h)\n",
    "        loss = F.mse_loss(h, y)\n",
    "        self.log(\"train_loss\", loss, on_epoch=True)\n",
    "        return loss\n",
    "\n",
    "    def validation_step(self, val_batch, batch_idx):\n",
    "        x = val_batch.x\n",
    "        y = val_batch.y\n",
    "        edge_index = val_batch.edge_index\n",
    "        edge_weight = val_batch.edge_attr\n",
    "        x = self.bn1(x)\n",
    "        h = self.recurrent1(x, edge_index, edge_weight)\n",
    "        h = self.bn2(h)\n",
    "        h = F.relu(h)\n",
    "        h = F.dropout(h, training=self.training)\n",
    "        h = self.recurrent2(h, edge_index, edge_weight)\n",
    "        h = F.relu(h)\n",
    "        h = F.dropout(h, training=self.training)\n",
    "        h = self.linear1(h)\n",
    "        h = self.linear2(h)\n",
    "        loss = F.mse_loss(h, y)\n",
    "        metrics = {'val_loss': loss}\n",
    "        self.log_dict(metrics)\n",
    "        return metrics\n",
    "    \n",
    "    def test_step(self, test_batch, batch_idx):\n",
    "        x = test_batch.x\n",
    "        y = test_batch.y\n",
    "        edge_index = test_batch.edge_index\n",
    "        edge_weight = test_batch.edge_attr\n",
    "        x = self.bn1(x)\n",
    "        h = self.recurrent1(x, edge_index, edge_weight)\n",
    "        h = self.bn2(h)\n",
    "        h = F.relu(h)\n",
    "        h = F.dropout(h, training=self.training)\n",
    "        h = self.recurrent2(h, edge_index, edge_weight)\n",
    "        h = F.relu(h)\n",
    "        h = F.dropout(h, training=self.training)\n",
    "        h = self.linear1(h)\n",
    "        y_hat = self.linear2(h)\n",
    "        test_loss = F.mse_loss(y_hat, y)\n",
    "        self.log(\"test_loss\", test_loss)\n"
   ]
  },
  {
   "attachments": {},
   "cell_type": "markdown",
   "metadata": {},
   "source": [
    "#### Complexity Level 3 Improvements (+ Dropout)\n",
    "Predict Target 1"
   ]
  },
  {
   "cell_type": "code",
   "execution_count": 130,
   "metadata": {},
   "outputs": [],
   "source": [
    "# Improvements 3.5 - Change to only target 1\n",
    "from torch.nn import functional as F\n",
    "\n",
    "import pytorch_lightning as pl\n",
    "from pytorch_lightning.callbacks.early_stopping import EarlyStopping\n",
    "\n",
    "from torch_geometric.nn.norm import BatchNorm\n",
    "from torch_geometric_temporal.nn.recurrent import DCRNN\n",
    "from torch_geometric_temporal.dataset import ChickenpoxDatasetLoader\n",
    "from torch_geometric_temporal.signal import temporal_signal_split\n",
    "\n",
    "\n",
    "class LitDiffConvModel(pl.LightningModule):\n",
    "\n",
    "    def __init__(self, node_features, filters):\n",
    "        super().__init__()\n",
    "        self.bn1 = BatchNorm(node_features)\n",
    "        self.recurrent1 = DCRNN(node_features, filters, 2) \n",
    "        self.bn2 = BatchNorm(filters)\n",
    "        self.recurrent2 = DCRNN(filters, 40, 2)\n",
    "        self.bn3 = BatchNorm(40)\n",
    "        self.linear1 = torch.nn.Linear(40, 30)\n",
    "        self.linear2 = torch.nn.Linear(30, 1) # One Target\n",
    "\n",
    "    def configure_optimizers(self):\n",
    "        optimizer = torch.optim.Adam(self.parameters(), lr=0.001) # can add weight_decay\n",
    "        return optimizer\n",
    "    \n",
    "    def forward(self, test_batch):\n",
    "        x = test_batch.x\n",
    "        edge_index = test_batch.edge_index\n",
    "        edge_weight = test_batch.edge_attr\n",
    "        x = self.bn1(x)\n",
    "        h = self.recurrent1(x, edge_index, edge_weight)\n",
    "        h = self.bn2(h)\n",
    "        h = F.relu(h)\n",
    "        h = F.dropout(h, training=self.training)\n",
    "        h = self.recurrent2(h, edge_index, edge_weight)\n",
    "        h = self.bn3(h)\n",
    "        h = F.relu(h)\n",
    "        h = F.dropout(h, training=self.training)\n",
    "        h = self.linear1(h)\n",
    "        h = self.linear2(h)\n",
    "        return h\n",
    "\n",
    "    def training_step(self, train_batch, batch_idx):\n",
    "        x = train_batch.x\n",
    "        y = train_batch.y\n",
    "        edge_index = train_batch.edge_index\n",
    "        edge_weight = train_batch.edge_attr\n",
    "        x = self.bn1(x)\n",
    "        h = self.recurrent1(x, edge_index, edge_weight)\n",
    "        h = self.bn2(h)\n",
    "        h = F.relu(h)\n",
    "        h = F.dropout(h, training=self.training)\n",
    "        h = self.recurrent2(h, edge_index, edge_weight)\n",
    "        h = self.bn3(h)\n",
    "        h = F.relu(h)\n",
    "        h = F.dropout(h, training=self.training)\n",
    "        h = self.linear1(h)\n",
    "        h = self.linear2(h)\n",
    "        loss = F.mse_loss(h, y)\n",
    "        self.log(\"train_loss\", loss, on_epoch=True)\n",
    "        return loss\n",
    "\n",
    "    def validation_step(self, val_batch, batch_idx):\n",
    "        x = val_batch.x\n",
    "        y = val_batch.y\n",
    "        edge_index = val_batch.edge_index\n",
    "        edge_weight = val_batch.edge_attr\n",
    "        x = self.bn1(x)\n",
    "        h = self.recurrent1(x, edge_index, edge_weight)\n",
    "        h = self.bn2(h)\n",
    "        h = F.relu(h)\n",
    "        h = F.dropout(h, training=self.training)\n",
    "        h = self.recurrent2(h, edge_index, edge_weight)\n",
    "        h = self.bn3(h)\n",
    "        h = F.relu(h)\n",
    "        h = F.dropout(h, training=self.training)\n",
    "        h = self.linear1(h)\n",
    "        h = self.linear2(h)\n",
    "        loss = F.mse_loss(h, y)\n",
    "        metrics = {'val_loss': loss}\n",
    "        self.log_dict(metrics)\n",
    "        return metrics\n",
    "    \n",
    "    def test_step(self, test_batch, batch_idx):\n",
    "        x = test_batch.x\n",
    "        y = test_batch.y\n",
    "        edge_index = test_batch.edge_index\n",
    "        edge_weight = test_batch.edge_attr\n",
    "        x = self.bn1(x)\n",
    "        h = self.recurrent1(x, edge_index, edge_weight)\n",
    "        h = self.bn2(h)\n",
    "        h = F.relu(h)\n",
    "        h = F.dropout(h, training=self.training)\n",
    "        h = self.recurrent2(h, edge_index, edge_weight)\n",
    "        h = self.bn3(h)\n",
    "        h = F.relu(h)\n",
    "        h = F.dropout(h, training=self.training)\n",
    "        h = self.linear1(h)\n",
    "        y_hat = self.linear2(h)\n",
    "        test_loss = F.mse_loss(y_hat, y)\n",
    "        self.log(\"test_loss\", test_loss)\n"
   ]
  },
  {
   "attachments": {},
   "cell_type": "markdown",
   "metadata": {},
   "source": [
    "### Training"
   ]
  },
  {
   "cell_type": "code",
   "execution_count": 10,
   "metadata": {},
   "outputs": [
    {
     "name": "stderr",
     "output_type": "stream",
     "text": [
      "GPU available: True (cuda), used: True\n",
      "TPU available: False, using: 0 TPU cores\n",
      "IPU available: False, using: 0 IPUs\n",
      "HPU available: False, using: 0 HPUs\n",
      "LOCAL_RANK: 0 - CUDA_VISIBLE_DEVICES: [0]\n",
      "\n",
      "  | Name      | Type      | Params\n",
      "----------------------------------------\n",
      "0 | bn1       | BatchNorm | 10    \n",
      "1 | recurrent | DCRNN     | 47.0 K\n",
      "2 | linear1   | Linear    | 1.2 K \n",
      "3 | linear2   | Linear    | 21    \n",
      "----------------------------------------\n",
      "48.2 K    Trainable params\n",
      "0         Non-trainable params\n",
      "48.2 K    Total params\n",
      "0.193     Total estimated model params size (MB)\n"
     ]
    },
    {
     "name": "stdout",
     "output_type": "stream",
     "text": [
      "Epoch 32: : 0it [00:00, ?it/s, v_num=29]                                   "
     ]
    },
    {
     "name": "stderr",
     "output_type": "stream",
     "text": [
      "Trainer was signaled to stop but the required `min_epochs=100` or `min_steps=None` has not been met. Training will continue...\n"
     ]
    },
    {
     "name": "stdout",
     "output_type": "stream",
     "text": [
      "Epoch 99: : 600it [00:21, 28.48it/s, v_num=29]\n"
     ]
    }
   ],
   "source": [
    "model = LitDiffConvModel(node_features=5,\n",
    "                         filters=60)\n",
    "\n",
    "early_stop_callback = EarlyStopping(monitor='val_loss',\n",
    "                                    min_delta=0.00,\n",
    "                                    patience=10,\n",
    "                                    verbose=False,\n",
    "                                    mode='max')\n",
    "\n",
    "trainer = pl.Trainer(callbacks=[early_stop_callback], min_epochs=100) # Set epoch numer, else stop flag\n",
    "\n",
    "trainer.fit(model, train_loader, val_loader)"
   ]
  },
  {
   "attachments": {},
   "cell_type": "markdown",
   "metadata": {},
   "source": [
    "### Evaluation"
   ]
  },
  {
   "attachments": {},
   "cell_type": "markdown",
   "metadata": {},
   "source": [
    "#### Graphics in TensorBoard"
   ]
  },
  {
   "attachments": {},
   "cell_type": "markdown",
   "metadata": {},
   "source": [
    "To start tensorboard on localhost, run in Command Shell:  \n",
    "tensorboard --logdir . "
   ]
  },
  {
   "cell_type": "code",
   "execution_count": 8,
   "metadata": {},
   "outputs": [
    {
     "data": {
      "text/html": [
       "\n",
       "      <iframe id=\"tensorboard-frame-496c3f972dfc3b47\" width=\"100%\" height=\"800\" frameborder=\"0\">\n",
       "      </iframe>\n",
       "      <script>\n",
       "        (function() {\n",
       "          const frame = document.getElementById(\"tensorboard-frame-496c3f972dfc3b47\");\n",
       "          const url = new URL(\"http://localhost\");\n",
       "          const port = 6006;\n",
       "          if (port) {\n",
       "            url.port = port;\n",
       "          }\n",
       "          frame.src = url;\n",
       "        })();\n",
       "      </script>\n",
       "    "
      ],
      "text/plain": [
       "<IPython.core.display.HTML object>"
      ]
     },
     "metadata": {},
     "output_type": "display_data"
    }
   ],
   "source": [
    "# Lunch TensorBoard in IDE\n",
    "%reload_ext tensorboard\n",
    "%tensorboard --logdir=lightning_logs\n"
   ]
  },
  {
   "attachments": {},
   "cell_type": "markdown",
   "metadata": {},
   "source": [
    "#### Test"
   ]
  },
  {
   "cell_type": "code",
   "execution_count": 11,
   "metadata": {},
   "outputs": [
    {
     "name": "stderr",
     "output_type": "stream",
     "text": [
      "LOCAL_RANK: 0 - CUDA_VISIBLE_DEVICES: [0]\n"
     ]
    },
    {
     "name": "stdout",
     "output_type": "stream",
     "text": [
      "Testing DataLoader 0: : 200it [00:03, 52.99it/s]\n",
      "────────────────────────────────────────────────────────────────────────────────────────────────────────────────────────\n",
      "       Test metric             DataLoader 0\n",
      "────────────────────────────────────────────────────────────────────────────────────────────────────────────────────────\n",
      "        test_loss           106.07524871826172\n",
      "────────────────────────────────────────────────────────────────────────────────────────────────────────────────────────\n"
     ]
    },
    {
     "data": {
      "text/plain": [
       "[{'test_loss': 106.07524871826172}]"
      ]
     },
     "execution_count": 11,
     "metadata": {},
     "output_type": "execute_result"
    }
   ],
   "source": [
    "trainer.test(model, dataloaders=test_loader) "
   ]
  },
  {
   "attachments": {},
   "cell_type": "markdown",
   "metadata": {},
   "source": [
    "#### Store Predictions"
   ]
  },
  {
   "cell_type": "code",
   "execution_count": 15,
   "metadata": {},
   "outputs": [
    {
     "name": "stderr",
     "output_type": "stream",
     "text": [
      "LOCAL_RANK: 0 - CUDA_VISIBLE_DEVICES: [0]\n"
     ]
    },
    {
     "name": "stdout",
     "output_type": "stream",
     "text": [
      "Predicting DataLoader 0: : 200it [00:03, 56.73it/s]\n"
     ]
    }
   ],
   "source": [
    "predictions = trainer.predict(model, test_loader)"
   ]
  },
  {
   "cell_type": "code",
   "execution_count": 30,
   "metadata": {},
   "outputs": [],
   "source": [
    "# Store Predictions in csv\n",
    "import numpy as np\n",
    "import csv\n",
    "\n",
    "# Adjust numer of Tests\n",
    "prediction_counter = 1\n",
    "\n",
    "# Helper Functions to Extract and Format Data\n",
    "def extractPred(lst, target):\n",
    "    t1 = list()\n",
    "    for item in lst:\n",
    "        for item2 in item:\n",
    "            res = item2[target-1].detach().numpy()\n",
    "            t1.append(item2[target-1].detach().numpy())\n",
    "    return np.asarray(t1)\n",
    "\n",
    "def extractTargetAll(lst, target):\n",
    "    t1 = list()\n",
    "    for item in lst:\n",
    "        for item2 in item:\n",
    "            t1.append(item2[target-1])\n",
    "    return np.asarray(t1)\n",
    "\n",
    "# Save in csv\n",
    "def savePredictions(prediction_counter):\n",
    "    prediction_counter += 1\n",
    "    predictionsSave1 = extractPred(predictions, 1)\n",
    "    predictionsSave2 = extractPred(predictions, 2)\n",
    "    fileName = \"Model_Predictions_\" + str(prediction_counter) + \".csv\"\n",
    "    save = {'Target1':predictionsSave1,'Target2':predictionsSave2}\n",
    "    import pandas as pd\n",
    "    df = pd.DataFrame(save)\n",
    "    df.to_csv(fileName)"
   ]
  },
  {
   "cell_type": "code",
   "execution_count": null,
   "metadata": {},
   "outputs": [],
   "source": [
    "savePredictions(29)"
   ]
  },
  {
   "attachments": {},
   "cell_type": "markdown",
   "metadata": {},
   "source": [
    "#### Comparison of Target and Predicitons in one Graph Snapshot"
   ]
  },
  {
   "cell_type": "code",
   "execution_count": 28,
   "metadata": {},
   "outputs": [],
   "source": [
    "# Helper Function, choose target and Snapshot\n",
    "def extractTarget(lst, target, snap):\n",
    "    t1 = list()\n",
    "    item = lst[snap]\n",
    "    for item2 in item:\n",
    "        t1.append(item2[target-1])\n",
    "    return t1\n",
    "\n",
    "def extractPredicion(lst, target, snap):\n",
    "    t1 = list()\n",
    "    item = lst[snap]\n",
    "    for item2 in item:\n",
    "        t1.append(item2[target-1].detach().numpy())\n",
    "    return t1"
   ]
  },
  {
   "cell_type": "code",
   "execution_count": 41,
   "metadata": {},
   "outputs": [
    {
     "data": {
      "image/png": "[encoded data removed]",
      "text/plain": [
       "<Figure size 640x480 with 1 Axes>"
      ]
     },
     "metadata": {},
     "output_type": "display_data"
    }
   ],
   "source": [
    "# Graphic for Theta\n",
    "import matplotlib.pyplot as plt\n",
    "target1part = extractTarget(test_loader.targets, 1, 0)\n",
    "prediction1part = extractPredicion(predictions, 2, 0)\n",
    "\n",
    "plt.plot(target1part,'g*', label='Target')\n",
    "plt.plot(prediction1part, 'ro', label=\"Prediction\")\n",
    "\n",
    "plt.title(\"Prediction vs Target: Theta\", loc = 'left')\n",
    "plt.xlabel(\"Node\")\n",
    "plt.ylabel(\"Value Theta\")\n",
    "plt.legend(loc=\"best\")\n",
    "plt.show()\n"
   ]
  },
  {
   "cell_type": "code",
   "execution_count": 40,
   "metadata": {},
   "outputs": [
    {
     "data": {
      "image/png": "[encoded data removed]",
      "text/plain": [
       "<Figure size 640x480 with 1 Axes>"
      ]
     },
     "metadata": {},
     "output_type": "display_data"
    }
   ],
   "source": [
    "# Graphic for Generation\n",
    "import matplotlib.pyplot as plt\n",
    "target1part = extractTarget(test_loader.targets, 1, 0)\n",
    "prediction1part = extractPredicion(predictions, 1, 0)\n",
    "\n",
    "plt.plot(target1part,'g*', label='Target')\n",
    "plt.plot(prediction1part, 'ro', label=\"Prediction\")\n",
    "\n",
    "plt.title(\"Prediction vs Target: Generation\", loc = 'left')\n",
    "plt.xlabel(\"Node\")\n",
    "plt.ylabel(\"Value Generation\")\n",
    "plt.legend(loc=\"best\")\n",
    "plt.show()"
   ]
  }
 ],
 "metadata": {
  "kernelspec": {
   "display_name": "Python 3",
   "language": "python",
   "name": "python3"
  },
  "language_info": {
   "codemirror_mode": {
    "name": "ipython",
    "version": 3
   },
   "file_extension": ".py",
   "mimetype": "text/x-python",
   "name": "python",
   "nbconvert_exporter": "python",
   "pygments_lexer": "ipython3",
   "version": "3.9.16"
  },
  "orig_nbformat": 4
 },
 "nbformat": 4,
 "nbformat_minor": 2
}
