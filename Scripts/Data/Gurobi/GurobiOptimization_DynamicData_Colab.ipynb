{
  "cells": [
    {
      "attachments": {},
      "cell_type": "markdown",
      "id": "f8430d85",
      "metadata": {},
      "source": [
        "# Google Colab Notebook for Gurobi Optimization"
      ]
    },
    {
      "attachments": {},
      "cell_type": "markdown",
      "id": "c83da830",
      "metadata": {},
      "source": [
        "### Data Storage to Google Drive"
      ]
    },
    {
      "cell_type": "code",
      "execution_count": null,
      "id": "VGwWDstx6igD",
      "metadata": {
        "colab": {
          "base_uri": "https://localhost:8080/"
        },
        "id": "VGwWDstx6igD",
        "outputId": "4e837806-e5b7-4597-8b1d-f4a0319b9c39"
      },
      "outputs": [],
      "source": [
        "from google.colab import drive\n",
        "import os\n",
        "# mount for Google Drive\n",
        "drive.mount('/content/drive', force_remount=True)\n",
        "os.chdir('/content/drive/MyDrive/OPF_ML_Colab')\n",
        "!ls"
      ]
    },
    {
      "attachments": {},
      "cell_type": "markdown",
      "id": "4ee4b9d1",
      "metadata": {},
      "source": [
        "### Format Data to fit Gurobi"
      ]
    },
    {
      "cell_type": "code",
      "execution_count": null,
      "id": "c8805793",
      "metadata": {
        "id": "c8805793"
      },
      "outputs": [],
      "source": [
        "# Case where number of generators per bus == 1\n",
        "# Information on dimensions: B, x and P_max: N_bus x N_bus, c, P_D, P_min_G, P_max_G: N_bus x N_gen\n",
        "\n",
        "import pandas as pd\n",
        "import numpy as np\n",
        "\n",
        "# Read Files\n",
        "busses = pd.read_excel('Busses_Timeseries_Table_Set2020_ExcelEdit.xlsx')\n",
        "edges = pd.read_excel('Edges_Timeseries_Table_Set2020_ExcelEdit.xlsx')"
      ]
    },
    {
      "cell_type": "code",
      "execution_count": null,
      "id": "fb8ce31e",
      "metadata": {
        "id": "fb8ce31e"
      },
      "outputs": [],
      "source": [
        "# Copyright 2022, Nadine Angermeier (nadine.angermeier@tum.de), TUM\n",
        "\n",
        "#N_bus\n",
        "N_bus = busses['bus_id'].unique().size\n",
        "\n",
        "# N_gen\n",
        "# Depends on assumption, to receive same dimensions set to 1 or 2 (if split between price-sensitive and price-inelastic)\n",
        "N_gen = 1\n",
        "\n",
        "# c, P_min_G and P_max_G\n",
        "# Function to generatte on set of c, P_min_G and P_max G at one timeinterval\n",
        "def generate_Time_Data (time, N_bus):\n",
        "    c = np.zeros((N_bus, 1))\n",
        "    h = np.zeros((N_bus, 1))\n",
        "    P_min_G = np.zeros((N_bus, 1))\n",
        "    P_max_G = np.zeros((N_bus, 1))\n",
        "    \n",
        "    bussesAct = busses.loc[busses['datetime_beginning_utc'] == time]\n",
        "    bussesAct.reset_index(inplace = True, drop = True)\n",
        "    N_bus = len(bussesAct.index)\n",
        "    \n",
        "    c = bussesAct['incremental_price']\n",
        "    h = bussesAct['inter_start_cost']\n",
        "    P_min_G = bussesAct['min_ecomin']\n",
        "    P_max_G = bussesAct['max_ecomax']\n",
        "    P_D = bussesAct['mw_norm']\n",
        "    \n",
        "    B = np.zeros((N_bus, N_bus))\n",
        "    P_max = np.zeros((N_bus, N_bus))\n",
        "    \n",
        "    edgesAct = edges.loc[edges['datetime_beginning_utc'] == time]\n",
        "    edgesAct.reset_index(inplace = True, drop = True)\n",
        "    N_edge = len(edgesAct.index)\n",
        "    \n",
        "    for i in range(N_edge):\n",
        "        fromEdge = edgesAct.loc[i, 'From Number']\n",
        "        toEdge = edgesAct.loc[i, 'To Number']\n",
        "        B[fromEdge, toEdge] = 1 / edgesAct.loc[i, 'X'] #Test\n",
        "        B[toEdge, fromEdge] = 1 / edgesAct.loc[i, 'X'] #Test\n",
        "        P_max[fromEdge, toEdge] = edgesAct.loc[i, 'Lim MVA A']\n",
        "        P_max[toEdge, fromEdge] = edgesAct.loc[i, 'Lim MVA A']\n",
        "        \n",
        "    return c, h, P_min_G, P_max_G, P_D, B, P_max\n",
        "\n",
        "\n"
      ]
    },
    {
      "attachments": {},
      "cell_type": "markdown",
      "id": "b60bb620",
      "metadata": {},
      "source": [
        "### Optimize with gurobipy"
      ]
    },
    {
      "cell_type": "code",
      "execution_count": null,
      "id": "PTglagK29Nki",
      "metadata": {
        "colab": {
          "base_uri": "https://localhost:8080/"
        },
        "id": "PTglagK29Nki",
        "outputId": "08df1352-59f8-4362-e5a6-5dd458315852"
      },
      "outputs": [
        {
          "name": "stdout",
          "output_type": "stream",
          "text": [
            "Looking in indexes: https://pypi.org/simple, https://us-python.pkg.dev/colab-wheels/public/simple/\n",
            "Collecting gurobipy\n",
            "  Downloading gurobipy-10.0.1-cp39-cp39-manylinux2014_x86_64.whl (12.8 MB)\n",
            "\u001b[2K     \u001b[90m━━━━━━━━━━━━━━━━━━━━━━━━━━━━━━━━━━━━━━━━\u001b[0m \u001b[32m12.8/12.8 MB\u001b[0m \u001b[31m43.2 MB/s\u001b[0m eta \u001b[36m0:00:00\u001b[0m\n",
            "\u001b[?25hInstalling collected packages: gurobipy\n",
            "Successfully installed gurobipy-10.0.1\n"
          ]
        }
      ],
      "source": [
        "!pip install gurobipy"
      ]
    },
    {
      "cell_type": "code",
      "execution_count": null,
      "id": "77e57849",
      "metadata": {
        "id": "77e57849"
      },
      "outputs": [],
      "source": [
        "# Guide on https://www.gurobi.com/documentation/10.0/quickstart_windows/cs_python.html#section:Python\n",
        "\n",
        "# Verison 1.1.1\n",
        "# Assumption: 1 generator and 1 demander per bus\n",
        "# If variable number of generators per bus (even demanders per bus), need to give branch data and add each constraint\n",
        "\n",
        "#Gurobi python package (pip install)\n",
        "import gurobipy as gp\n",
        "from gurobipy import *\n",
        "\n",
        "# This code formulates and solves the following DCOPF model:\n",
        "#  minimize\n",
        "#        Sum[i=1 to N_bus] (ci * P_Gi + hi * ui)\n",
        "#  subject to\n",
        "#        P_min_Gi * ui <= P_Gi, i=1,...N_bus  c1\n",
        "#        P_max_Gi * ui >= P_Gi, i=1,...N_bus  c2\n",
        "#        P_Gi - P_Di = Sum[j=1 to N_bus] (Bij * (thetai - thetaj), i=1,...N_bus   c3\n",
        "#        Bij * (thetai - thetaj) <= P_maxij, i,j = 1,...N_bus   c4\n",
        "# Information on dimensions: B, P_max: N_bus x N_bus; P_G, c, h, P_min_G, P_max_G, P_D, theta: N_bus x 1\n",
        "\n",
        "# Constants/ data is given, np.arrays\n",
        "def run_dcopf(N_bus, c, h, P_min_G, P_max_G, B, P_D, P_max):\n",
        "    try:\n",
        "\n",
        "        # Create a new model\n",
        "        m = gp.Model(\"dcopf\")\n",
        "\n",
        "        # Create Matrix variables\n",
        "        P_G = m.addMVar(shape=N_bus, vtype=GRB.CONTINUOUS, name=\"P_G\")\n",
        "        u = m.addMVar(shape=N_bus, vtype=GRB.BINARY, name=\"u\")\n",
        "        theta = m.addMVar(shape=N_bus, vtype=GRB.CONTINUOUS, name=\"theta\")\n",
        "        \n",
        "        # Set objective\n",
        "        m.setObjective(gp.quicksum(c[i] * P_G[i] + h[i] * u[i] for i in range(N_bus)), GRB.MINIMIZE)\n",
        "\n",
        "        # Add constraints\n",
        "        m.addConstrs((P_min_G[i] * u[i] <= P_G[i] for i in range(N_bus)), \"c1\")\n",
        "        m.addConstrs((P_max_G[i] * u[i] >= P_G[i] for i in range(N_bus)), \"c2\")\n",
        "        m.addConstrs((P_G[i] - P_D[i] == gp.quicksum(B[i, j] * (theta[i] - theta[j]) for j in range(N_bus)) for i in range(N_bus)), \"c3\")\n",
        "        m.addConstrs((B[i, j] * (theta[i] - theta[j]) <= P_max[i, j] for i in range(N_bus) for j in range(N_bus)), \"c4\")\n",
        "        \n",
        "        # Optimize model\n",
        "        m.optimize()\n",
        "        \n",
        "        # Relaxation, not used\n",
        "        #if m.status == GRB.INFEASIBLE:\n",
        "            #m.feasRelaxS(1,False,False,True)\n",
        "            #m.optimize()\n",
        "            \n",
        "        all_vars = m.getVars()    \n",
        "        values = m.getAttr(\"X\", all_vars)\n",
        "        names = m.getAttr(\"VarName\", all_vars)\n",
        "        #for name, val in zip(names, values):\n",
        "            #print(f\"{name} = {val}\")\n",
        "            \n",
        "        #Return result\n",
        "        return m #m.getVars(), m.ObjVal\n",
        "        \n",
        "    except gp.GurobiError as e:\n",
        "        print('Error code ' + str(e.errno) + ': ' + str(e))\n",
        "\n",
        "    except AttributeError:\n",
        "        print('Encountered an attribute error')\n",
        "\n",
        "# Function to print results\n",
        "def print_result(variables, objVal):\n",
        "    for v in variables:\n",
        "        print('%s %g' % (v.VarName, v.X))\n",
        "\n",
        "    print('Obj: %g' % objVal)\n",
        "        \n",
        "\n"
      ]
    },
    {
      "cell_type": "code",
      "execution_count": null,
      "id": "625ad566",
      "metadata": {
        "id": "625ad566"
      },
      "outputs": [],
      "source": [
        "def save_result(result, timeInterval):\n",
        "    variables = result.getVars()\n",
        "    values = result.getAttr(\"X\", variables)\n",
        "    names = result.getAttr(\"VarName\", variables)\n",
        "    \n",
        "    for name, val in zip(names, values):\n",
        "        #print(name)\n",
        "        index = int(re.findall('[0-9]+', name)[0])\n",
        "        if (name.startswith(\"P_G\")):\n",
        "            busses.at[timeInterval * N_bus + index, 'solGenerate'] = val\n",
        "        if (name.startswith(\"u\")):\n",
        "            busses.at[timeInterval * N_bus + index, 'solOn'] = val\n",
        "        if (name.startswith(\"theta\")):\n",
        "            busses.at[timeInterval * N_bus + index, 'solTheta'] = val\n",
        "            \n",
        "    #Save inbetween as kernel dies sometimes  \n",
        "    busses.to_csv(\"Busses_Timeseries_Table_Set2020_Solution_Complete.csv\")\n",
        "\n",
        "# Empty/ Infeasible rows need to be deleted, Demanders and generators need to be stored in csv"
      ]
    },
    {
      "cell_type": "code",
      "execution_count": null,
      "id": "5e541fab",
      "metadata": {
        "colab": {
          "base_uri": "https://localhost:8080/"
        },
        "id": "5e541fab",
        "outputId": "55c48f39-1af9-4625-daaa-81bb79d066bd"
      },
      "outputs": [],
      "source": [
        "# Go through data, optimize and print/ store                                           \n",
        "timestamps = edges['datetime_beginning_utc'].unique()\n",
        "\n",
        "for timeInterval in range(len(timestamps)): \n",
        "    time = pd.Timestamp(timestamps[timeInterval])\n",
        "    c, h, P_min_G, P_max_G, P_D, B, P_max = generate_Time_Data (time, N_bus)\n",
        "    result = run_dcopf(N_bus, c, h, P_min_G, P_max_G, B, P_D, P_max)\n",
        "    if result == None:\n",
        "        print('Infeasible')\n",
        "    else: \n",
        "        # Feasible        \n",
        "        save_result(result, timeInterval)\n",
        "    \n",
        "    "
      ]
    }
  ],
  "metadata": {
    "colab": {
      "provenance": []
    },
    "kernelspec": {
      "display_name": "Python 3 (ipykernel)",
      "language": "python",
      "name": "python3"
    },
    "language_info": {
      "codemirror_mode": {
        "name": "ipython",
        "version": 3
      },
      "file_extension": ".py",
      "mimetype": "text/x-python",
      "name": "python",
      "nbconvert_exporter": "python",
      "pygments_lexer": "ipython3",
      "version": "3.10.8"
    }
  },
  "nbformat": 4,
  "nbformat_minor": 5
}
