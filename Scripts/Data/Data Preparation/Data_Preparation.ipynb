{
 "cells": [
  {
   "attachments": {},
   "cell_type": "markdown",
   "metadata": {},
   "source": [
    "# Notebook to Perform Data Conversion Calculations and Feasibility Adjustments"
   ]
  },
  {
   "cell_type": "code",
   "execution_count": null,
   "metadata": {},
   "outputs": [],
   "source": [
    "import pandas as pd\n",
    "\n",
    "# Read Files\n",
    "demanders = pd.read_excel('Busses_Timeseries_Table.xlsx')\n",
    "generators = pd.read_excel('Generators_Timeseries_Table_.xlsx')\n",
    "generatorsGrid = pd.read_excel('Generators_Table.xlsx')\n",
    "branches = pd.read_excel('Branches_Input_Table.xlsx')"
   ]
  },
  {
   "attachments": {},
   "cell_type": "markdown",
   "metadata": {},
   "source": [
    "### Factorize Consumer/Bus Index"
   ]
  },
  {
   "cell_type": "code",
   "execution_count": null,
   "metadata": {},
   "outputs": [],
   "source": [
    "# Adjust bus id and Reduce bus number by 1 so in {0.. n_bus-1}\n",
    "demanders['bus_id'] = pd.factorize(demanders['load_area'])[0]\n",
    "branches['To Number'] =  branches['To Number'] - 1\n",
    "branches['From Number'] =  branches['From Number'] - 1\n",
    "generatorsGrid['Number of Bus'] =  generatorsGrid['Number of Bus'] - 1"
   ]
  },
  {
   "attachments": {},
   "cell_type": "markdown",
   "metadata": {},
   "source": [
    "### Scale Edge Capacities"
   ]
  },
  {
   "cell_type": "code",
   "execution_count": null,
   "metadata": {},
   "outputs": [],
   "source": [
    "scalingFactor = 10\n",
    "branches['Lim MVA A'] = branches['Lim MVA A']*scalingFactor"
   ]
  },
  {
   "attachments": {},
   "cell_type": "markdown",
   "metadata": {},
   "source": [
    "### Scale Generator Capacity"
   ]
  },
  {
   "attachments": {},
   "cell_type": "markdown",
   "metadata": {},
   "source": [
    "Adapt to not exceed edge limits - see cleaning"
   ]
  },
  {
   "attachments": {},
   "cell_type": "markdown",
   "metadata": {},
   "source": [
    "### Normalize Demand"
   ]
  },
  {
   "cell_type": "code",
   "execution_count": null,
   "metadata": {},
   "outputs": [],
   "source": [
    "import random\n",
    "\n",
    "def capacitySum (timeInterval):\n",
    "    index = 0\n",
    "    sum = 0\n",
    "    while index < 6:\n",
    "        generator = generators.iloc[[timeInterval * 6 + index]]\n",
    "        sum += generator['max_ecomax'].item()\n",
    "        index += 1\n",
    "    #Add randomness to not fill capacity every time\n",
    "    gap = random.uniform(0, 15) / 100 # small to not make infeasible with round up\n",
    "    sum = sum* (1-gap)\n",
    "    return sum"
   ]
  },
  {
   "cell_type": "code",
   "execution_count": null,
   "metadata": {},
   "outputs": [],
   "source": [
    "# Formula demandi/SumDemand * CapacitySum = zi\n",
    "# CapacitySum * (1- gap) to not fill capacity completely\n",
    "\n",
    "import numpy as np\n",
    "import math\n",
    "\n",
    "#30 demanders in time interval\n",
    "demandersSize = 30\n",
    "timeInterval = 0\n",
    "\n",
    "while timeInterval < len(demanders.index) / demandersSize:\n",
    "    index = 0\n",
    "    demandSum = 0\n",
    "\n",
    "    while index < demandersSize:\n",
    "        row = demanders.iloc[[timeInterval * demandersSize + index]]\n",
    "        demandSum += row['mw'].item()\n",
    "        index += 1\n",
    "        \n",
    "    capacitySum = capacitySum(timeInterval)\n",
    "    #if timeInterval == 0:\n",
    "        #print(\"Capacity: \" + str(capacitySum) + \" Sum: \" + str(demandSum))\n",
    "    index = 0\n",
    "    if sum > capacitySum: \n",
    "        while index < demandersSize:\n",
    "            row = demanders.iloc[[timeInterval * 30 + index]]\n",
    "            xi = row['mw'].item()\n",
    "\n",
    "            zi = xi/ demandSum * capacitySum\n",
    "\n",
    "            #round to two digits after comma\n",
    "            demanders.at[timeInterval * demandersSize + index, 'mw_norm'] = round(zi, 2)\n",
    "            #if timeInterval == 0:\n",
    "                #print(str(timeInterval) + ': zi ' + str(demanders.at[timeInterval * 30 + index, 'mw_norm']))\n",
    "            index += 1\n",
    "    timeInterval += 1"
   ]
  },
  {
   "attachments": {},
   "cell_type": "markdown",
   "metadata": {},
   "source": [
    "### Calculate Marginal Prices"
   ]
  },
  {
   "cell_type": "code",
   "execution_count": null,
   "metadata": {},
   "outputs": [],
   "source": [
    "# Find the bmin-index and bmax-index of a generator bid from the given values\n",
    "def find_b (row):\n",
    "    bmin = -1\n",
    "    bmax = -1\n",
    "    for columnIndex, value in row.items():\n",
    "        if bmin == -1 and columnIndex.startswith('mw') and pd.notna(value): # First given value\n",
    "            bmin = columnIndex[2:len(columnIndex)]\n",
    "        if bmin != -1 and columnIndex.startswith('mw') and pd.isna(value): # Last given value\n",
    "            bmax = int(columnIndex[2:len(columnIndex)]) -1\n",
    "            break\n",
    "    bmin = int(bmin)\n",
    "    return bmin, bmax"
   ]
  },
  {
   "cell_type": "code",
   "execution_count": null,
   "metadata": {},
   "outputs": [],
   "source": [
    "# C_pw(bmax) of each generator bid\n",
    "\n",
    "def price_calc (row):\n",
    "    bmin, bmax = find_b(row) \n",
    "    #print(\"Bmax: \" + str(bmax) + \" bmin: \" + str(bmin))\n",
    "    if bmax == -1 or bmin == -1:\n",
    "        return 0 # Return 0, translates to x = 0\n",
    "    \n",
    "    bidname = \"bid\" + str(bmin)\n",
    "    mwname = \"mw\" + str(bmin) \n",
    "    mwmax = row[mwname]\n",
    "    if mwmax == 0:\n",
    "        mwmax = 1\n",
    "        \n",
    "    cost = row[bidname] * row[mwname] # First cost without factorization\n",
    "    #print(\"First cost: \" + str(cost) + \"from mw:\" + str(row[mwname]) + \"and bid:\" + str(row[bidname]))\n",
    "\n",
    "    bindex = bmin + 1\n",
    "    while bindex <= bmax:\n",
    "        bidname = \"bid\" + str(bindex)\n",
    "        mwname = \"mw\" + str(bindex)\n",
    "        mwnameMinus1 = \"mw\" + str(bindex - 1)\n",
    "        \n",
    "        cost += row[bidname] * (row[mwname] - row[mwnameMinus1])\n",
    "\n",
    "        if row['bid_slope_flag'] == 'True': # Factorization if flag= True\n",
    "            bidnameMinus1 = \"bid\" + str(bindex -1)\n",
    "            cost += ((row[bidname] - row[bidnameMinus1])*(row[mwname] - row[mwnameMinus1]))/2\n",
    "                 \n",
    "        mwmax = row[mwname]\n",
    "        #print(\"My cost\" + str(cost) + \"mwmax:\" + str(mwmax)) \n",
    "        bindex += 1\n",
    "    \n",
    "    print(\"Final: \" + str(cost/mwmax))\n",
    "    return cost/mwmax  # To get price not cost   "
   ]
  },
  {
   "cell_type": "code",
   "execution_count": null,
   "metadata": {},
   "outputs": [],
   "source": [
    "generators['incremental_price'] = generators.apply (lambda row: price_calc(row), axis = 1)"
   ]
  }
 ],
 "metadata": {
  "language_info": {
   "name": "python"
  },
  "orig_nbformat": 4
 },
 "nbformat": 4,
 "nbformat_minor": 2
}
