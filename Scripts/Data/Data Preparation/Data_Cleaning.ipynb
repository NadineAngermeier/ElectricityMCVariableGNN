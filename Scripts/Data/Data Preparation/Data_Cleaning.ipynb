{
 "cells": [
  {
   "attachments": {},
   "cell_type": "markdown",
   "metadata": {},
   "source": [
    "# Notebook with some Data Cleaning steps\n",
    "\n",
    "Data Inspection beforehand with Excel to identify patterns and correct changes, might be quite different from current approach"
   ]
  },
  {
   "attachments": {},
   "cell_type": "markdown",
   "metadata": {},
   "source": [
    "### Fill missing Values"
   ]
  },
  {
   "cell_type": "code",
   "execution_count": null,
   "metadata": {},
   "outputs": [],
   "source": [
    "import pandas as pd\n",
    "\n",
    "# Read Files\n",
    "demanders = pd.read_excel('Busses_Timeseries_Table.xlsx')\n",
    "generators = pd.read_excel('Generators_Timeseries_Table_.xlsx')\n",
    "generatorsGrid = pd.read_excel('Generators_Table.xlsx')\n",
    "branches = pd.read_excel('Branches_Input_Table.xlsx')\n",
    "\n",
    "temp = pd.Timestamp(generators.loc[0, 'bid_datetime_beginning_utc'])\n",
    "nGen = len(generators.loc[generators['bid_datetime_beginning_utc'] == temp])"
   ]
  },
  {
   "cell_type": "code",
   "execution_count": null,
   "metadata": {},
   "outputs": [],
   "source": [
    "# Mising data: Empty values (capacity for generator 1)\n",
    "import random\n",
    "import math\n",
    "\n",
    "index = 0\n",
    "emptyCount = 0\n",
    "for i in range(len(generators.index)):\n",
    "    row = generators.iloc[[i]]\n",
    "    if row['unit_code'].item() == \"AAAABg8LDwQAMS45NjYyMjEwNA\" and row['max_ecomax'].item() == 0: # Fill empty generator 1 capacity values\n",
    "        generators.at[i, 'max_ecomax'] = generators.loc[emptyCount * nGen, 'max_ecomax'] # Fill with historic value\n",
    "        emptyCount += 1\n",
    "        if emptyCount == 1:\n",
    "            print(\"Empty found\")\n",
    "    if row['unit_code'].item() == \"AAAABg8LDwQAMS45NjYyMjEwNA\" and row['max_ecomax'].item() != 0:\n",
    "        emptyCount = 0\n"
   ]
  },
  {
   "cell_type": "code",
   "execution_count": null,
   "metadata": {},
   "outputs": [],
   "source": [
    "# Add missing generator values\n",
    "missingIDs = ['AAAADQYJAgAFLjEwNTAyMjEy', 'AAAADQYJAgAHLjEwNTAyMjEw', 'AAAADQYJAgMPLjEwNTAyMjEx']\n",
    "\n",
    "nMissingGen = len(missingIDs) # Number of missing generators\n",
    "givenGen = nGen - nMissingGen\n",
    "length = len(generators.index)\n",
    "doit = False\n",
    "index = 0\n",
    "while index < length:  \n",
    "    temp = pd.Timestamp(generators.loc[index, 'bid_datetime_beginning_utc'])\n",
    "    nGenTemp = len(generators.loc[generators['bid_datetime_beginning_utc'] == temp])\n",
    "\n",
    "    if nGenTemp < nGen: # Missing data for generators, need to adjust to pattern (same three missing here)\n",
    "        index += givenGen - 1\n",
    "        rowcount = 0\n",
    "        row = generators.iloc[[index]]\n",
    "        while rowcount < nMissingGen:\n",
    "            rowlist = row.values.flatten().tolist()\n",
    "            rowlist[2] = missingIDs[rowcount] # Update with missing ID\n",
    "            generators.loc[index + rowcount/10] = rowlist # Create new rows after index with same value\n",
    "            # Set values to 0 or add threshold or sampled gap to variable values\n",
    "            rowcount += 1\n",
    "    index += 1"
   ]
  },
  {
   "cell_type": "code",
   "execution_count": null,
   "metadata": {},
   "outputs": [],
   "source": [
    "# Missing Values: Fill missing edge capacities\n",
    "limAverage = branches[branches['Lim MVA A'] != 0]['Lim MVA A'].mean()\n",
    "branches.loc[branches['Lim MVA A'] == 0, 'Lim MVA A'] = limAverage"
   ]
  },
  {
   "attachments": {},
   "cell_type": "markdown",
   "metadata": {},
   "source": [
    "### Adjust Variance"
   ]
  },
  {
   "cell_type": "code",
   "execution_count": null,
   "metadata": {},
   "outputs": [],
   "source": [
    "# Adjust Variance: Reduce outliers (generator 1) with approximate scaling values, sample too similar bids (generator 4-5)\n",
    "import random\n",
    "import math\n",
    "\n",
    "index = 0\n",
    "emptyCount = 0\n",
    "for i in range(len(generators.index)):\n",
    "    row = generators.iloc[[i]]\n",
    "\n",
    "    # Reduce outliers (specific generator identified)\n",
    "    if row['unit_code'].item() == \"AAAABg8LDwQAMS45NjYyMjEwNA\":\n",
    "        generators.at[i, 'max_ecomax'] = generators.loc[i, 'max_ecomax'] * 0.25\n",
    "        generators.at[i, 'min_ecomin'] = generators.loc[i, 'min_ecomin'] * 0.1\n",
    "        if generators.loc[i, 'max_ecomax'] > 260:  #if still bigger reduce again\n",
    "            generators.at[i, 'max_ecomax'] = generators.loc[emptyCount * 6, 'max_ecomax'] / 373 * 260\n",
    "\n",
    "    # Sample too similar/filled in data of generators (two specific generators idetified)\n",
    "    elif row['unit_code'].item() == \"AAAADQYJAgAHLjEwNTAyMjEw\" or row['unit_code'].item() == \"AAAADQYJAgMPLjEwNTAyMjEx\":\n",
    "        gap = random.uniform(0, 15) / 100\n",
    "        generators.at[i, 'max_ecomax'] = round(generators.loc[i, 'max_ecomax'] * (1-gap), 2)"
   ]
  },
  {
   "attachments": {},
   "cell_type": "markdown",
   "metadata": {},
   "source": [
    "### Match Identifiers"
   ]
  },
  {
   "cell_type": "code",
   "execution_count": null,
   "metadata": {},
   "outputs": [],
   "source": [
    "# Match Identifiers of Generators\n",
    "\n",
    "#to be replaced\n",
    "idsNew = ['AAAABg8LDwQBMS45NjYyMjEwNA', 'AAAADQYJAgAALjEwNTAyMjE0', 'AAAADQYJAgACLjEwNTAyMjEz', 'AAAADQYJAgAELjEwNTAyMjEy', 'AAAADQYJAgAGLjEwNTAyMjEw', 'AAAADQYJAgMOLjEwNTAyMjEx']\n",
    "#correct / replaced by\n",
    "idsOld = ['AAAABg8LDwQAMS45NjYyMjEwNA', 'AAAADQYJAgABLjEwNTAyMjE0', 'AAAADQYJAgADLjEwNTAyMjEz', 'AAAADQYJAgAFLjEwNTAyMjEy', 'AAAADQYJAgAHLjEwNTAyMjEw', 'AAAADQYJAgMPLjEwNTAyMjEx']\n",
    "\n",
    "def change_id (row):\n",
    "    if row['unit_code'] in idsNew:\n",
    "        oldIndex = idsNew.index(row['unit_code'])\n",
    "        return idsOld[oldIndex]\n",
    "    return row['unit_code']\n",
    "\n",
    "generators['unit_code'] = generators.apply (lambda row: change_id(row), axis = 1)"
   ]
  }
 ],
 "metadata": {
  "language_info": {
   "name": "python"
  },
  "orig_nbformat": 4
 },
 "nbformat": 4,
 "nbformat_minor": 2
}
